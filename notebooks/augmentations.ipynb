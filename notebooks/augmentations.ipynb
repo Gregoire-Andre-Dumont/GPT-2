{
 "cells": [
  {
   "cell_type": "code",
   "id": "initial_id",
   "metadata": {
    "collapsed": true,
    "ExecuteTime": {
     "end_time": "2025-03-20T21:51:08.423794Z",
     "start_time": "2025-03-20T21:50:59.586938Z"
    }
   },
   "source": [
    "from transformers import BertForMaskedLM, BertTokenizer\n",
    "import torch\n",
    "\n",
    "# Load BERT for MLM\n",
    "bert_model = BertForMaskedLM.from_pretrained(\"bert-large-uncased\")\n",
    "bert_tokenizer = BertTokenizer.from_pretrained(\"bert-large-uncased\")\n",
    "bert_model.eval()"
   ],
   "outputs": [
    {
     "name": "stderr",
     "output_type": "stream",
     "text": [
      "C:\\Users\\dumon\\PycharmProjects\\GPT-2\\.venv\\Lib\\site-packages\\tqdm\\auto.py:21: TqdmWarning: IProgress not found. Please update jupyter and ipywidgets. See https://ipywidgets.readthedocs.io/en/stable/user_install.html\n",
      "  from .autonotebook import tqdm as notebook_tqdm\n",
      "Some weights of the model checkpoint at bert-large-uncased were not used when initializing BertForMaskedLM: ['bert.pooler.dense.bias', 'bert.pooler.dense.weight', 'cls.seq_relationship.bias', 'cls.seq_relationship.weight']\n",
      "- This IS expected if you are initializing BertForMaskedLM from the checkpoint of a model trained on another task or with another architecture (e.g. initializing a BertForSequenceClassification model from a BertForPreTraining model).\n",
      "- This IS NOT expected if you are initializing BertForMaskedLM from the checkpoint of a model that you expect to be exactly identical (initializing a BertForSequenceClassification model from a BertForSequenceClassification model).\n"
     ]
    },
    {
     "data": {
      "text/plain": [
       "BertForMaskedLM(\n",
       "  (bert): BertModel(\n",
       "    (embeddings): BertEmbeddings(\n",
       "      (word_embeddings): Embedding(30522, 1024, padding_idx=0)\n",
       "      (position_embeddings): Embedding(512, 1024)\n",
       "      (token_type_embeddings): Embedding(2, 1024)\n",
       "      (LayerNorm): LayerNorm((1024,), eps=1e-12, elementwise_affine=True)\n",
       "      (dropout): Dropout(p=0.1, inplace=False)\n",
       "    )\n",
       "    (encoder): BertEncoder(\n",
       "      (layer): ModuleList(\n",
       "        (0-23): 24 x BertLayer(\n",
       "          (attention): BertAttention(\n",
       "            (self): BertSdpaSelfAttention(\n",
       "              (query): Linear(in_features=1024, out_features=1024, bias=True)\n",
       "              (key): Linear(in_features=1024, out_features=1024, bias=True)\n",
       "              (value): Linear(in_features=1024, out_features=1024, bias=True)\n",
       "              (dropout): Dropout(p=0.1, inplace=False)\n",
       "            )\n",
       "            (output): BertSelfOutput(\n",
       "              (dense): Linear(in_features=1024, out_features=1024, bias=True)\n",
       "              (LayerNorm): LayerNorm((1024,), eps=1e-12, elementwise_affine=True)\n",
       "              (dropout): Dropout(p=0.1, inplace=False)\n",
       "            )\n",
       "          )\n",
       "          (intermediate): BertIntermediate(\n",
       "            (dense): Linear(in_features=1024, out_features=4096, bias=True)\n",
       "            (intermediate_act_fn): GELUActivation()\n",
       "          )\n",
       "          (output): BertOutput(\n",
       "            (dense): Linear(in_features=4096, out_features=1024, bias=True)\n",
       "            (LayerNorm): LayerNorm((1024,), eps=1e-12, elementwise_affine=True)\n",
       "            (dropout): Dropout(p=0.1, inplace=False)\n",
       "          )\n",
       "        )\n",
       "      )\n",
       "    )\n",
       "  )\n",
       "  (cls): BertOnlyMLMHead(\n",
       "    (predictions): BertLMPredictionHead(\n",
       "      (transform): BertPredictionHeadTransform(\n",
       "        (dense): Linear(in_features=1024, out_features=1024, bias=True)\n",
       "        (transform_act_fn): GELUActivation()\n",
       "        (LayerNorm): LayerNorm((1024,), eps=1e-12, elementwise_affine=True)\n",
       "      )\n",
       "      (decoder): Linear(in_features=1024, out_features=30522, bias=True)\n",
       "    )\n",
       "  )\n",
       ")"
      ]
     },
     "execution_count": 1,
     "metadata": {},
     "output_type": "execute_result"
    }
   ],
   "execution_count": 1
  },
  {
   "metadata": {
    "ExecuteTime": {
     "end_time": "2025-03-20T21:51:08.462551Z",
     "start_time": "2025-03-20T21:51:08.452978Z"
    }
   },
   "cell_type": "code",
   "source": [
    "import random\n",
    "\n",
    "def mask_random_words(text, mask_prob=0.15):\n",
    "    words = text.split()  # Split by whitespace to get whole words\n",
    "    masked_text = []\n",
    "    masked_indices = []\n",
    "\n",
    "    for i, word in enumerate(words):\n",
    "        # Apply masking probability to whole words\n",
    "        if random.random() < mask_prob:\n",
    "            subwords = bert_tokenizer.tokenize(word)  # Ensure correct tokenization\n",
    "            masked_text.extend([\"[MASK]\"] * len(subwords))  # Mask all subword pieces\n",
    "            masked_indices.append(i)  # Keep track of masked word index\n",
    "        else:\n",
    "            masked_text.extend(bert_tokenizer.tokenize(word))  # Keep word as is\n",
    "\n",
    "    return \" \".join(masked_text), masked_indices, words"
   ],
   "id": "c4b34481e6c6b8b6",
   "outputs": [],
   "execution_count": 2
  },
  {
   "metadata": {
    "ExecuteTime": {
     "end_time": "2025-03-20T21:51:08.695610Z",
     "start_time": "2025-03-20T21:51:08.688701Z"
    }
   },
   "cell_type": "code",
   "source": [
    "def predict_with_bert(masked_text):\n",
    "    inputs = bert_tokenizer(masked_text, return_tensors=\"pt\")\n",
    "    with torch.no_grad():\n",
    "        outputs = bert_model(**inputs)\n",
    "\n",
    "    predictions = outputs.logits\n",
    "    masked_indices = (inputs.input_ids == bert_tokenizer.mask_token_id).nonzero(as_tuple=True)[1]\n",
    "\n",
    "    predicted_tokens = []\n",
    "    for idx in masked_indices:\n",
    "        predicted_id = predictions[0, idx].argmax(dim=-1).item()\n",
    "        predicted_tokens.append(bert_tokenizer.decode(predicted_id))\n",
    "\n",
    "    return predicted_tokens"
   ],
   "id": "d36b38355bc8c183",
   "outputs": [],
   "execution_count": 3
  },
  {
   "metadata": {
    "ExecuteTime": {
     "end_time": "2025-03-20T21:51:10.421699Z",
     "start_time": "2025-03-20T21:51:08.720239Z"
    }
   },
   "cell_type": "code",
   "source": [
    "import pandas as pd\n",
    "text = pd.read_parquet('../data/text8/test.parquet')['text'][0]\n",
    "chunks = [text[i : i + 1024] for i in range(0, len(text), 1024)]\n",
    "masked_text, masked_indices, original_tokens = mask_random_words(chunks[0], 0.05)\n",
    "predicted_tokens = predict_with_bert(masked_text)\n",
    "\n",
    "\n",
    "for i, pred in zip(masked_indices, predicted_tokens):\n",
    "    original_tokens[i] = pred\n",
    "augmented_text = \" \".join(original_tokens)\n",
    "\n",
    "print(augmented_text)"
   ],
   "id": "33dc772caa5ca933",
   "outputs": [
    {
     "name": "stdout",
     "output_type": "stream",
     "text": [
      "once ejected and hold it there in the chamber to ensure it is clear allow the action to go forward under control push the forward assist release the action and close the ejection port cover safety precaution magazine fitted perform an unload if the above safety precaution is used with a charged magazine fitted a round will be chambered load insert a charged magazine into the magazine housing there is a slight audible click when the magazine is properly fitted the secureness of the magazine can be tested by gently trying to remove the magazine strike it against the base with medium firmness to make sure it locks home ready pull the charging handle all the way to the rear and release push the forward assist if the weapon is not to be fired immediately then put the fire selector to safe and close the ejection port cover fire marksmanship is a complex and subtle art and is beyond the scope of this article however in general the weapon is fired by putting the fire selector on either semi or burst auto on some models\n"
     ]
    }
   ],
   "execution_count": 4
  },
  {
   "metadata": {
    "ExecuteTime": {
     "end_time": "2025-03-20T21:21:18.825960Z",
     "start_time": "2025-03-20T21:21:18.813253Z"
    }
   },
   "cell_type": "code",
   "source": "print(chunks[0])",
   "id": "5bc6c32db7145b3e",
   "outputs": [
    {
     "name": "stdout",
     "output_type": "stream",
     "text": [
      "be ejected and hold it there examine the chamber to ensure it is clear allow the action to go forward under control push the forward assist fire the action and close the ejection port cover safety precaution magazine fitted perform an unload if the above safety precaution is used with a charged magazine fitted a round will be chambered load insert a charged magazine into the magazine housing there is a slight audible click when the magazine is properly fitted the secureness of the magazine can be tested by gently trying to remove the magazine strike it from the base with medium firmness to make sure it locks home ready pull the charging handle all the way to the rear and release push the forward assist if the weapon is not to be fired immediately then put the fire selector to safe and close the ejection port cover fire marksmanship is a complex and subtle art and is beyond the scope of this article however in general the weapon is fired by putting the fire selector on either semi or burst auto on some models \n"
     ]
    }
   ],
   "execution_count": 20
  },
  {
   "metadata": {
    "ExecuteTime": {
     "end_time": "2025-03-20T21:21:19.526661Z",
     "start_time": "2025-03-20T21:21:19.521069Z"
    }
   },
   "cell_type": "code",
   "source": "print(masked_text)",
   "id": "72306a2cff4f6ff5",
   "outputs": [
    {
     "name": "stdout",
     "output_type": "stream",
     "text": [
      "be ejected and hold it there examine the chamber to ensure it is clear allow the action to go forward under [MASK] push the [MASK] assist fire the action and close the e ##ject ##ion port cover safety pre ##ca ##ution magazine fitted perform [MASK] un ##load if the above safety pre ##ca ##ution is used with a charged magazine [MASK] [MASK] round will be chamber ##ed load insert a charged [MASK] into the magazine housing there is a slight audible click when the magazine is properly fitted the secure ##ness of the magazine can be tested by gently trying to remove the magazine strike it from the base with medium firm ##ness to make sure it locks home ready pull the charging handle all the way to the rear and release push the forward assist if the [MASK] [MASK] not to be [MASK] immediately then put the fire selector to safe and close the e ##ject ##ion port cover fire marks ##manship is a complex and subtle [MASK] and is beyond the scope of this article however in [MASK] the weapon is fired by putting the fire selector on either semi or burst auto on some models\n"
     ]
    }
   ],
   "execution_count": 21
  },
  {
   "metadata": {},
   "cell_type": "code",
   "outputs": [],
   "execution_count": null,
   "source": "",
   "id": "b294a11845c2910d"
  }
 ],
 "metadata": {
  "kernelspec": {
   "display_name": "Python 3",
   "language": "python",
   "name": "python3"
  },
  "language_info": {
   "codemirror_mode": {
    "name": "ipython",
    "version": 2
   },
   "file_extension": ".py",
   "mimetype": "text/x-python",
   "name": "python",
   "nbconvert_exporter": "python",
   "pygments_lexer": "ipython2",
   "version": "2.7.6"
  }
 },
 "nbformat": 4,
 "nbformat_minor": 5
}
