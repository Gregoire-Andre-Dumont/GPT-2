{
 "cells": [
  {
   "cell_type": "code",
   "id": "initial_id",
   "metadata": {
    "collapsed": true
   },
   "source": [
    "from transformers import BertForMaskedLM, BertTokenizer\n",
    "import torch\n",
    "\n",
    "# Load BERT for MLM\n",
    "bert_model = BertForMaskedLM.from_pretrained(\"bert-large-uncased\")\n",
    "bert_tokenizer = BertTokenizer.from_pretrained(\"bert-large-uncased\")"
   ],
   "outputs": [],
   "execution_count": null
  },
  {
   "metadata": {
    "ExecuteTime": {
     "end_time": "2025-03-27T10:36:49.779477Z",
     "start_time": "2025-03-27T10:36:49.773074Z"
    }
   },
   "cell_type": "code",
   "source": [
    "import numpy as np\n",
    "\n",
    "def data_augment(text: str, p_bert: float) -> str:\n",
    "    \"\"\"Data augmentation with mask language modeling.\"\"\"\n",
    "\n",
    "    # Extract the subwords tokens from the text\n",
    "    tokenized_text = np.array(bert_tokenizer.tokenize(text))\n",
    "\n",
    "    # Randomly mask tokens in the text\n",
    "    mask = np.random.rand(len(tokenized_text)) < p_bert\n",
    "    masked_text = np.where(mask, \"[MASK]\", tokenized_text).tolist()\n",
    "    mask_indices = np.where(mask)[0].tolist()\n",
    "\n",
    "    # Convert to BERT input format\n",
    "    indexed_tokens = bert_tokenizer.convert_tokens_to_ids(masked_text)\n",
    "    tokens_tensor = torch.tensor([indexed_tokens])\n",
    "\n",
    "    # Predict masked tokens\n",
    "    with torch.no_grad():\n",
    "        outputs = bert_model(tokens_tensor)\n",
    "        predictions = outputs[0]\n",
    "\n",
    "    # Extract predicted token indices for all masked positions at once\n",
    "    predicted_indices = torch.argmax(predictions[0, mask_indices], dim=1).tolist()\n",
    "    predicted_tokens = bert_tokenizer.convert_ids_to_tokens(predicted_indices)\n",
    "\n",
    "    # Replace MASK tokens with predictions\n",
    "    augmented_tokens = tokenized_text.copy()\n",
    "    for idx, mask_pos in enumerate(mask_indices):\n",
    "        augmented_tokens[mask_pos] = predicted_tokens[idx]\n",
    "\n",
    "    # Convert back to text\n",
    "    return bert_tokenizer.convert_tokens_to_string(augmented_tokens)"
   ],
   "id": "c4b34481e6c6b8b6",
   "outputs": [],
   "execution_count": 4
  },
  {
   "metadata": {
    "ExecuteTime": {
     "end_time": "2025-03-27T10:37:19.073155Z",
     "start_time": "2025-03-27T10:37:18.032566Z"
    }
   },
   "cell_type": "code",
   "source": [
    "import pandas as pd\n",
    "text = pd.read_parquet('../data/text8/test.parquet')['text']\n",
    "text = text[0][:2000]\n",
    "augmented_text = data_augment(text, p_bert=0.2)\n",
    "\n",
    "print(augmented_text)"
   ],
   "id": "33dc772caa5ca933",
   "outputs": [
    {
     "name": "stdout",
     "output_type": "stream",
     "text": [
      "be ejected and hold it there examine the chamber to ensure it is clear , the magazine to go back under control push the manual assist fire the action and close the ejection port cover safety precaution magazine fitted perform to unload if the above safety precaution is used with a charged magazine fitted a round will be chambered load insert the charged magazine into the magazine housing there is a loud audible click when the magazine is properly fitted the firmness of the magazine can be tested by gently trying to remove the magazine strike it from its base with medium firmness to make sure it is home . pull the charging handle all the way to the rear and release with the forward assist if the weapon is not to be used immediately then put the fire selector to safe or close the ejection port cover fire marksmanship is a fine and thou art and is beyond the scope of this article however in case the weapon is fired by putting the fire selectorr either semi or burst auto on some occasions resting the shoulder plate against the shoulder aligning the eye of the firer aperture of the front sight out of the foresight and target and squeezing the trigger unloading to put the fire selector on safe the selector will only go on safe if the gun is depressed i e . weapon . to remove the magazine by pulling the magazine out with the trigger hand while grasping the magazine with the other hand tilt the weapon to the right and cock the weapon a round and and and pull the charging handle to the rear again to hold it tilt the weapon to the left and when the chamber is empty allow the action to go forward with the forward assist put the fire and and semi automatic squeeze the trigger close the ejection port cover and recover the ejected round production and usage of m one six is the most common manufactured in five six x four 50 mm in around the world currently the m one six m four system is in use by one five nato countries and more by\n"
     ]
    }
   ],
   "execution_count": 7
  },
  {
   "metadata": {
    "ExecuteTime": {
     "end_time": "2025-03-27T10:37:04.899001Z",
     "start_time": "2025-03-27T10:37:04.893845Z"
    }
   },
   "cell_type": "code",
   "source": "print(text)",
   "id": "9f12e52132c960bf",
   "outputs": [
    {
     "name": "stdout",
     "output_type": "stream",
     "text": [
      "be ejected and hold it there examine the chamber to ensure it is clear allow the action to go forward under control push the forward assist fire the action and close the ejection port cover safety precaution magazine fitted perform an unload if the above safety precaution is used with a charged magazine fitted a round will be chambered load insert a charged magazine into the magazine housing there is a slight audible click when the magazine is properly fitted the secureness of the magazine can be tested by gently trying to remove the magazine strike it from the base with medium firmness to make sure it locks home ready pull the charging handle all the way to the rear and release push the forward assist if the weapon is not to be fired immediately then put the fire selector to safe and close the ejection port cover fire marksmanship is a complex and subtle art and is beyond the scope of this article however in general the weapon is fired by putting the fire selector on either semi or burst auto on some models resting the butt plate against the shoulder aligning the eye of the firer aperture of the rear sight tip of the foresight and target and squeezing the trigger unload attempt to put the fire selector on safe the selector will only go on safe if the hammer is depressed i e the weapon is cocked remove the magazine by pressing the magazine release with the trigger hand while grasping the magazine with the other hand tilt the weapon to the right and cock the weapon a round may be ejected pull the charging handle to the rear again and hold it tilt the weapon to the left and ensure the chamber is empty allow the action to go forward push the forward assist put the fire selector to semi and squeeze the trigger close the ejection port cover and recover the ejected round production and usage the m one six is the most commonly manufactured five five six x four five mm rifle in the world currently the m one six m four system is in use by one five nato countries and more tha\n"
     ]
    }
   ],
   "execution_count": 6
  },
  {
   "metadata": {},
   "cell_type": "code",
   "outputs": [],
   "execution_count": null,
   "source": "",
   "id": "d6776be5f381b6fc"
  }
 ],
 "metadata": {
  "kernelspec": {
   "display_name": "Python 3",
   "language": "python",
   "name": "python3"
  },
  "language_info": {
   "codemirror_mode": {
    "name": "ipython",
    "version": 2
   },
   "file_extension": ".py",
   "mimetype": "text/x-python",
   "name": "python",
   "nbconvert_exporter": "python",
   "pygments_lexer": "ipython2",
   "version": "2.7.6"
  }
 },
 "nbformat": 4,
 "nbformat_minor": 5
}
