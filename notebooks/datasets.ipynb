{
 "cells": [
  {
   "cell_type": "code",
   "id": "initial_id",
   "metadata": {
    "collapsed": true,
    "ExecuteTime": {
     "end_time": "2025-03-29T15:58:10.426267Z",
     "start_time": "2025-03-29T15:58:10.408111Z"
    }
   },
   "source": [
    "import pandas as pd\n",
    "train = pd.read_csv('../data/shakespeare/train.csv')\n",
    "len(train['text'][0])/10e5"
   ],
   "outputs": [
    {
     "data": {
      "text/plain": [
       "1.003854"
      ]
     },
     "execution_count": 10,
     "metadata": {},
     "output_type": "execute_result"
    }
   ],
   "execution_count": 10
  },
  {
   "metadata": {
    "ExecuteTime": {
     "end_time": "2025-03-29T15:57:58.225085Z",
     "start_time": "2025-03-29T15:57:58.042201Z"
    }
   },
   "cell_type": "code",
   "source": [
    "train = pd.read_parquet('../data/text8/train.parquet')\n",
    "len(train['text'][0])/10e6"
   ],
   "id": "bd8e4bde2c995393",
   "outputs": [
    {
     "data": {
      "text/plain": [
       "9.0"
      ]
     },
     "execution_count": 8,
     "metadata": {},
     "output_type": "execute_result"
    }
   ],
   "execution_count": 8
  },
  {
   "metadata": {},
   "cell_type": "code",
   "outputs": [],
   "execution_count": null,
   "source": "",
   "id": "9effdc7ef68028f5"
  }
 ],
 "metadata": {
  "kernelspec": {
   "display_name": "Python 3",
   "language": "python",
   "name": "python3"
  },
  "language_info": {
   "codemirror_mode": {
    "name": "ipython",
    "version": 2
   },
   "file_extension": ".py",
   "mimetype": "text/x-python",
   "name": "python",
   "nbconvert_exporter": "python",
   "pygments_lexer": "ipython2",
   "version": "2.7.6"
  }
 },
 "nbformat": 4,
 "nbformat_minor": 5
}
