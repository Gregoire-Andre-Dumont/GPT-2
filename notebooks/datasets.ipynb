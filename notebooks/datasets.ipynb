{
 "cells": [
  {
   "cell_type": "code",
   "id": "initial_id",
   "metadata": {
    "collapsed": true,
    "ExecuteTime": {
     "end_time": "2025-03-30T11:03:27.972139Z",
     "start_time": "2025-03-30T11:03:27.953196Z"
    }
   },
   "source": [
    "import pandas as pd\n",
    "\n",
    "path = '../data/shakespeare/train.csv'\n",
    "train = pd.read_csv(path)['text'][0]\n",
    "train[:10000]"
   ],
   "outputs": [
    {
     "data": {
      "text/plain": [
       "\"First Citizen:\\nBefore we proceed any further, hear me speak.\\n\\nAll:\\nSpeak, speak.\\n\\nFirst Citizen:\\nYou are all resolved rather to die than to famish?\\n\\nAll:\\nResolved. resolved.\\n\\nFirst Citizen:\\nFirst, you know Caius Marcius is chief enemy to the people.\\n\\nAll:\\nWe know't, we know't.\\n\\nFirst Citizen:\\nLet us kill him, and we'll have corn at our own price.\\nIs't a verdict?\\n\\nAll:\\nNo more talking on't; let it be done: away, away!\\n\\nSecond Citizen:\\nOne word, good citizens.\\n\\nFirst Citizen:\\nWe are accounted poor citizens, the patricians good.\\nWhat authority surfeits on would relieve us: if they\\nwould yield us but the superfluity, while it were\\nwholesome, we might guess they relieved us humanely;\\nbut they think we are too dear: the leanness that\\nafflicts us, the object of our misery, is as an\\ninventory to particularise their abundance; our\\nsufferance is a gain to them Let us revenge this with\\nour pikes, ere we become rakes: for the gods know I\\nspeak this in hunger for bread, not in thirst for revenge.\\n\\nSecond Citizen:\\nWould you proceed especially against Caius Marcius?\\n\\nAll:\\nAgainst him first: he's a very dog to the commonalty.\\n\\nSecond Citizen:\\nConsider you what services he has done for his country?\\n\\nFirst Citizen:\\nVery well; and could be content to give him good\\nreport fort, but that he pays himself with being proud.\\n\\nSecond Citizen:\\nNay, but speak not maliciously.\\n\\nFirst Citizen:\\nI say unto you, what he hath done famously, he did\\nit to that end: though soft-conscienced men can be\\ncontent to say it was for his country he did it to\\nplease his mother and to be partly proud; which he\\nis, even till the altitude of his virtue.\\n\\nSecond Citizen:\\nWhat he cannot help in his nature, you account a\\nvice in him. You must in no way say he is covetous.\\n\\nFirst Citizen:\\nIf I must not, I need not be barren of accusations;\\nhe hath faults, with surplus, to tire in repetition.\\nWhat shouts are these? The other side o' the city\\nis risen: why stay we prating here? to the Capitol!\\n\\nAll:\\nCome, come.\\n\\nFirst Citizen:\\nSoft! who comes here?\\n\\nSecond Citizen:\\nWorthy Menenius Agrippa; one that hath always loved\\nthe people.\\n\\nFirst Citizen:\\nHe's one honest enough: would all the rest were so!\\n\\nMENENIUS:\\nWhat work's, my countrymen, in hand? where go you\\nWith bats and clubs? The matter? speak, I pray you.\\n\\nFirst Citizen:\\nOur business is not unknown to the senate; they have\\nhad inkling this fortnight what we intend to do,\\nwhich now we'll show 'em in deeds. They say poor\\nsuitors have strong breaths: they shall know we\\nhave strong arms too.\\n\\nMENENIUS:\\nWhy, masters, my good friends, mine honest neighbours,\\nWill you undo yourselves?\\n\\nFirst Citizen:\\nWe cannot, sir, we are undone already.\\n\\nMENENIUS:\\nI tell you, friends, most charitable care\\nHave the patricians of you. For your wants,\\nYour suffering in this dearth, you may as well\\nStrike at the heaven with your staves as lift them\\nAgainst the Roman state, whose course will on\\nThe way it takes, cracking ten thousand curbs\\nOf more strong link asunder than can ever\\nAppear in your impediment. For the dearth,\\nThe gods, not the patricians, make it, and\\nYour knees to them, not arms, must help. Alack,\\nYou are transported by calamity\\nThither where more attends you, and you slander\\nThe helms o' the state, who care for you like fathers,\\nWhen you curse them as enemies.\\n\\nFirst Citizen:\\nCare for us! True, indeed! They ne'er cared for us\\nyet: suffer us to famish, and their store-houses\\ncrammed with grain; make edicts for usury, to\\nsupport usurers; repeal daily any wholesome act\\nestablished against the rich, and provide more\\npiercing statutes daily, to chain up and restrain\\nthe poor. If the wars eat us not up, they will; and\\nthere's all the love they bear us.\\n\\nMENENIUS:\\nEither you must\\nConfess yourselves wondrous malicious,\\nOr be accused of folly. I shall tell you\\nA pretty tale: it may be you have heard it;\\nBut, since it serves my purpose, I will venture\\nTo stale 't a little more.\\n\\nFirst Citizen:\\nWell, I'll hear it, sir: yet you must not think to\\nfob off our disgrace with a tale: but, an 't please\\nyou, deliver.\\n\\nMENENIUS:\\nThere was a time when all the body's members\\nRebell'd against the belly, thus accused it:\\nThat only like a gulf it did remain\\nI' the midst o' the body, idle and unactive,\\nStill cupboarding the viand, never bearing\\nLike labour with the rest, where the other instruments\\nDid see and hear, devise, instruct, walk, feel,\\nAnd, mutually participate, did minister\\nUnto the appetite and affection common\\nOf the whole body. The belly answer'd--\\n\\nFirst Citizen:\\nWell, sir, what answer made the belly?\\n\\nMENENIUS:\\nSir, I shall tell you. With a kind of smile,\\nWhich ne'er came from the lungs, but even thus--\\nFor, look you, I may make the belly smile\\nAs well as speak--it tauntingly replied\\nTo the discontented members, the mutinous parts\\nThat envied his receipt; even so most fitly\\nAs you malign our senators for that\\nThey are not such as you.\\n\\nFirst Citizen:\\nYour belly's answer? What!\\nThe kingly-crowned head, the vigilant eye,\\nThe counsellor heart, the arm our soldier,\\nOur steed the leg, the tongue our trumpeter.\\nWith other muniments and petty helps\\nIn this our fabric, if that they--\\n\\nMENENIUS:\\nWhat then?\\n'Fore me, this fellow speaks! What then? what then?\\n\\nFirst Citizen:\\nShould by the cormorant belly be restrain'd,\\nWho is the sink o' the body,--\\n\\nMENENIUS:\\nWell, what then?\\n\\nFirst Citizen:\\nThe former agents, if they did complain,\\nWhat could the belly answer?\\n\\nMENENIUS:\\nI will tell you\\nIf you'll bestow a small--of what you have little--\\nPatience awhile, you'll hear the belly's answer.\\n\\nFirst Citizen:\\nYe're long about it.\\n\\nMENENIUS:\\nNote me this, good friend;\\nYour most grave belly was deliberate,\\nNot rash like his accusers, and thus answer'd:\\n'True is it, my incorporate friends,' quoth he,\\n'That I receive the general food at first,\\nWhich you do live upon; and fit it is,\\nBecause I am the store-house and the shop\\nOf the whole body: but, if you do remember,\\nI send it through the rivers of your blood,\\nEven to the court, the heart, to the seat o' the brain;\\nAnd, through the cranks and offices of man,\\nThe strongest nerves and small inferior veins\\nFrom me receive that natural competency\\nWhereby they live: and though that all at once,\\nYou, my good friends,'--this says the belly, mark me,--\\n\\nFirst Citizen:\\nAy, sir; well, well.\\n\\nMENENIUS:\\n'Though all at once cannot\\nSee what I do deliver out to each,\\nYet I can make my audit up, that all\\nFrom me do back receive the flour of all,\\nAnd leave me but the bran.' What say you to't?\\n\\nFirst Citizen:\\nIt was an answer: how apply you this?\\n\\nMENENIUS:\\nThe senators of Rome are this good belly,\\nAnd you the mutinous members; for examine\\nTheir counsels and their cares, digest things rightly\\nTouching the weal o' the common, you shall find\\nNo public benefit which you receive\\nBut it proceeds or comes from them to you\\nAnd no way from yourselves. What do you think,\\nYou, the great toe of this assembly?\\n\\nFirst Citizen:\\nI the great toe! why the great toe?\\n\\nMENENIUS:\\nFor that, being one o' the lowest, basest, poorest,\\nOf this most wise rebellion, thou go'st foremost:\\nThou rascal, that art worst in blood to run,\\nLead'st first to win some vantage.\\nBut make you ready your stiff bats and clubs:\\nRome and her rats are at the point of battle;\\nThe one side must have bale.\\nHail, noble Marcius!\\n\\nMARCIUS:\\nThanks. What's the matter, you dissentious rogues,\\nThat, rubbing the poor itch of your opinion,\\nMake yourselves scabs?\\n\\nFirst Citizen:\\nWe have ever your good word.\\n\\nMARCIUS:\\nHe that will give good words to thee will flatter\\nBeneath abhorring. What would you have, you curs,\\nThat like nor peace nor war? the one affrights you,\\nThe other makes you proud. He that trusts to you,\\nWhere he should find you lions, finds you hares;\\nWhere foxes, geese: you are no surer, no,\\nThan is the coal of fire upon the ice,\\nOr hailstone in the sun. Your virtue is\\nTo make him worthy whose offence subdues him\\nAnd curse that justice did it.\\nWho deserves greatness\\nDeserves your hate; and your affections are\\nA sick man's appetite, who desires most that\\nWhich would increase his evil. He that depends\\nUpon your favours swims with fins of lead\\nAnd hews down oaks with rushes. Hang ye! Trust Ye?\\nWith every minute you do change a mind,\\nAnd call him noble that was now your hate,\\nHim vile that was your garland. What's the matter,\\nThat in these several places of the city\\nYou cry against the noble senate, who,\\nUnder the gods, keep you in awe, which else\\nWould feed on one another? What's their seeking?\\n\\nMENENIUS:\\nFor corn at their own rates; whereof, they say,\\nThe city is well stored.\\n\\nMARCIUS:\\nHang 'em! They say!\\nThey'll sit by the fire, and presume to know\\nWhat's done i' the Capitol; who's like to rise,\\nWho thrives and who declines; side factions\\nand give out\\nConjectural marriages; making parties strong\\nAnd feebling such as stand not in their liking\\nBelow their cobbled shoes. They say there's\\ngrain enough!\\nWould the nobility lay aside their ruth,\\nAnd let me use my sword, I'll make a quarry\\nWith thousands of these quarter'd slaves, as high\\nAs I could pick my lance.\\n\\nMENENIUS:\\nNay, these are almost thoroughly persuaded;\\nFor though abundantly they lack discretion,\\nYet are they passing cowardly. But, I beseech you,\\nWhat says the other troop?\\n\\nMARCIUS:\\nThey are dissolved: hang 'em!\\nThey said they were an-hungry; sigh'd forth proverbs,\\nThat hunger broke stone walls, that dogs must eat,\\nThat meat was made for mouths, that the gods sent not\\nCorn for the rich men only: with these shreds\\nThey vented their complainings; which being answer'd,\\nAnd a petition granted them, a strange one--\\nTo break the heart of generosity,\\nAnd make bold power look pale--they threw their caps\\nAs they would hang them on the horns o' the moon,\\nShouting their emulation.\\n\\nMENENIUS:\\nWhat is granted them?\\n\\nMARCIUS:\\nFive tribunes to defend their vulgar wisdoms,\\nOf their own choice: one's Junius Brutus,\\nSicinius Velutus, and I know not--'Sdeath!\\nThe rabble should have first unroof'd the city,\\nEre so prevail'd with me: \""
      ]
     },
     "execution_count": 15,
     "metadata": {},
     "output_type": "execute_result"
    }
   ],
   "execution_count": 15
  },
  {
   "metadata": {
    "ExecuteTime": {
     "end_time": "2025-03-30T17:40:31.722315Z",
     "start_time": "2025-03-30T17:40:31.578612Z"
    }
   },
   "cell_type": "code",
   "source": [
    "train = train.replace(\"\\n\\n\", \"\\n\")\n",
    "train = train.replace(\"\\n\", \" \")\n",
    "train = train.replace(\"--\", \" \")\n",
    "train[:10000]"
   ],
   "id": "bd8e4bde2c995393",
   "outputs": [
    {
     "ename": "NameError",
     "evalue": "name 'train' is not defined",
     "output_type": "error",
     "traceback": [
      "\u001B[1;31m---------------------------------------------------------------------------\u001B[0m",
      "\u001B[1;31mNameError\u001B[0m                                 Traceback (most recent call last)",
      "Cell \u001B[1;32mIn[1], line 1\u001B[0m\n\u001B[1;32m----> 1\u001B[0m train \u001B[38;5;241m=\u001B[39m \u001B[43mtrain\u001B[49m\u001B[38;5;241m.\u001B[39mreplace(\u001B[38;5;124m\"\u001B[39m\u001B[38;5;130;01m\\n\u001B[39;00m\u001B[38;5;130;01m\\n\u001B[39;00m\u001B[38;5;124m\"\u001B[39m, \u001B[38;5;124m\"\u001B[39m\u001B[38;5;130;01m\\n\u001B[39;00m\u001B[38;5;124m\"\u001B[39m)\n\u001B[0;32m      2\u001B[0m train \u001B[38;5;241m=\u001B[39m train\u001B[38;5;241m.\u001B[39mreplace(\u001B[38;5;124m\"\u001B[39m\u001B[38;5;130;01m\\n\u001B[39;00m\u001B[38;5;124m\"\u001B[39m, \u001B[38;5;124m\"\u001B[39m\u001B[38;5;124m \u001B[39m\u001B[38;5;124m\"\u001B[39m)\n\u001B[0;32m      3\u001B[0m train \u001B[38;5;241m=\u001B[39m train\u001B[38;5;241m.\u001B[39mreplace(\u001B[38;5;124m\"\u001B[39m\u001B[38;5;124m--\u001B[39m\u001B[38;5;124m\"\u001B[39m, \u001B[38;5;124m\"\u001B[39m\u001B[38;5;124m \u001B[39m\u001B[38;5;124m\"\u001B[39m)\n",
      "\u001B[1;31mNameError\u001B[0m: name 'train' is not defined"
     ]
    }
   ],
   "execution_count": 1
  },
  {
   "metadata": {},
   "cell_type": "code",
   "outputs": [],
   "execution_count": null,
   "source": "",
   "id": "9effdc7ef68028f5"
  }
 ],
 "metadata": {
  "kernelspec": {
   "display_name": "Python 3",
   "language": "python",
   "name": "python3"
  },
  "language_info": {
   "codemirror_mode": {
    "name": "ipython",
    "version": 2
   },
   "file_extension": ".py",
   "mimetype": "text/x-python",
   "name": "python",
   "nbconvert_exporter": "python",
   "pygments_lexer": "ipython2",
   "version": "2.7.6"
  }
 },
 "nbformat": 4,
 "nbformat_minor": 5
}
